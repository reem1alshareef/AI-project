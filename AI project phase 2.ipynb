{
 "cells": [
  {
   "cell_type": "code",
   "execution_count": 3,
   "id": "1dc6641d",
   "metadata": {
    "id": "1dc6641d"
   },
   "outputs": [],
   "source": [
    "# import pydotplus\n",
    "import numpy as np\n",
    "import pandas as pd\n",
    "import seaborn as sns\n",
    "import matplotlib.pyplot as plt\n",
    "import matplotlib.dates as mdates\n",
    "from datetime import datetime\n",
    "from sklearn.tree import export_graphviz\n",
    "from sklearn.metrics import plot_confusion_matrix\n",
    "from sklearn import tree\n",
    "\n",
    "# required import \n",
    "import numpy as np\n",
    "import pandas as pd\n",
    "import seaborn as sns\n",
    "import matplotlib.pyplot as plt\n",
    "\n",
    "# required import for DecisionTree\n",
    "from sklearn import tree \n",
    "from sklearn.tree import DecisionTreeClassifier \n",
    "\n",
    "# required import for split data\n",
    "from sklearn.model_selection import train_test_split \n",
    "\n",
    "# required import to evaluate the model\n",
    "import sklearn.metrics as metrics\n",
    "from sklearn.tree import export_graphviz\n",
    "from IPython.display import Image \n",
    "\n",
    "from six import StringIO\n",
    "# from xgboost import XGBClassifier\n",
    "from sklearn.impute import KNNImputer\n",
    "from sklearn.naive_bayes import GaussianNB\n",
    "from sklearn.ensemble import RandomForestClassifier, AdaBoostClassifier, VotingClassifier, StackingClassifier\n",
    "from sklearn.linear_model import LinearRegression\n",
    "from sklearn.neighbors import KNeighborsClassifier\n",
    "from sklearn.linear_model import LogisticRegression\n",
    "\n",
    "from sklearn.preprocessing import OrdinalEncoder, LabelEncoder, StandardScaler \n",
    "from sklearn.model_selection import train_test_split, GridSearchCV, cross_val_score, KFold\n",
    "from sklearn.ensemble import RandomForestClassifier, AdaBoostClassifier, VotingClassifier, StackingClassifier\n",
    "\n",
    "from sklearn.metrics import *   \n",
    "from sklearn.metrics import confusion_matrix\n",
    "from sklearn.metrics import r2_score\n",
    "from sklearn.metrics import recall_score\n",
    "from sklearn.metrics import precision_score\n",
    "from sklearn.metrics import mean_squared_error\n",
    "# required import for DecisionTree\n",
    "from sklearn import tree \n",
    "from sklearn.tree import DecisionTreeClassifier \n",
    "\n",
    "\n",
    "plt.rcParams['figure.figsize'] = [15,8]\n",
    "from IPython.display import Image  \n",
    "\n",
    "import warnings\n",
    "warnings.filterwarnings('ignore')"
   ]
  },
  {
   "cell_type": "code",
   "execution_count": null,
   "id": "d732601c",
   "metadata": {
    "colab": {
     "base_uri": "https://localhost:8080/",
     "height": 731
    },
    "id": "d732601c",
    "outputId": "374394f3-0e12-462b-8f7d-cd277b3e18a9"
   },
   "outputs": [],
   "source": [
    "data = pd.read_csv('Heart.csv', index_col=0)"
   ]
  },
  {
   "cell_type": "code",
   "execution_count": 128,
   "id": "04446637",
   "metadata": {},
   "outputs": [],
   "source": [
    "#Initial step for split data\n",
    "features = ['sex', 'cp', 'trestbps', 'chol', 'fbs', 'restecg', 'thalach', 'exang', 'oldpeak', 'slope', 'ca', 'thal'] \n",
    "target1 = ['target'] \n",
    "X = data [features]\n",
    "Y = data [target1]"
   ]
  },
  {
   "cell_type": "code",
   "execution_count": 129,
   "id": "794785b6",
   "metadata": {},
   "outputs": [],
   "source": [
    "#Split the dataset into 80% training set and 20% testing set \n",
    "X_train, X_test,  Y_train, Y_test = train_test_split(X, Y, test_size=0.2, random_state=1)"
   ]
  },
  {
   "cell_type": "code",
   "execution_count": 130,
   "id": "a34a1cbc",
   "metadata": {},
   "outputs": [],
   "source": [
    "# Create Decision Tree classifer object\n",
    "clf = DecisionTreeClassifier()\n",
    "# Train Decision Tree classifer objec\n",
    "clf = clf.fit (X_train,Y_train)\n",
    "#Predict the response for test dataset \n",
    "ypre = clf.predict(X_test)"
   ]
  },
  {
   "cell_type": "code",
   "execution_count": 131,
   "id": "d2f03614",
   "metadata": {},
   "outputs": [],
   "source": [
    "\n",
    "#Evaluate the Decision Tree classifer \n",
    "Accuracy = metrics.accuracy_score(Y_test, ypre) \n",
    "Error_rate  = 1 - Accuracy \n",
    "Roc_auc = metrics.roc_auc_score(Y_test, ypre) \n",
    "Precision = metrics.precision_score (Y_test, ypre) \n",
    "Recall = metrics.recall_score (Y_test, ypre)\n",
    "F1 = metrics.f1_score(Y_test, ypre)\n",
    "Confusion_matrix = metrics.confusion_matrix(Y_test, ypre) "
   ]
  },
  {
   "cell_type": "code",
   "execution_count": 132,
   "id": "93e56050",
   "metadata": {},
   "outputs": [
    {
     "name": "stdout",
     "output_type": "stream",
     "text": [
      "Accuracy = 0.7377049180327869 \n",
      "Error Rate = 0.2622950819672131 \n",
      "ROC Area under Curve = 0.7354525862068966 \n",
      "Precision = 0.7352941176470589 \n",
      "Recall = 0.78125 \n",
      "F1 = 0.7575757575757576 \n",
      "Confusion matrix  = \n",
      " [[20  9]\n",
      " [ 7 25]] \n"
     ]
    }
   ],
   "source": [
    "\n",
    "#Print the output for each one\n",
    "print(\"Accuracy = {} \".format(Accuracy)) \n",
    "print(\"Error Rate = {} \".format(Error_rate))\n",
    "\n",
    "print(\"ROC Area under Curve = {} \".format(Roc_auc))\n",
    "\n",
    "print(\"Precision = {} \".format(Precision))\n",
    "\n",
    "print(\"Recall = {} \".format(Recall))\n",
    "\n",
    "print(\"F1 = {} \".format(F1))\n",
    "\n",
    "print(\"Confusion matrix  = \\n {} \".format(Confusion_matrix))"
   ]
  },
  {
   "cell_type": "code",
   "execution_count": 133,
   "id": "0983952b",
   "metadata": {},
   "outputs": [],
   "source": [
    "\n",
    "#Evaluate the TP, FP, TN, FN for Confusion Matrix\n",
    "TP = Confusion_matrix[1,1]\n",
    "FP = Confusion_matrix[0,1]\n",
    "TN = Confusion_matrix[0,0]\n",
    "FN = Confusion_matrix[1,0]"
   ]
  },
  {
   "cell_type": "code",
   "execution_count": 134,
   "id": "d986c068",
   "metadata": {},
   "outputs": [
    {
     "name": "stdout",
     "output_type": "stream",
     "text": [
      "TP = 25 \n",
      "FP = 9 \n",
      "TN = 20 \n",
      "FN = 7 \n"
     ]
    }
   ],
   "source": [
    "#Print the output of TP, FP, TN, FN\n",
    "print(\"TP = {} \".format(TP))\n",
    "\n",
    "print(\"FP = {} \".format(FP))\n",
    "\n",
    "print(\"TN = {} \".format(TN))\n",
    "\n",
    "print(\"FN = {} \".format(FN))"
   ]
  },
  {
   "cell_type": "code",
   "execution_count": 135,
   "id": "6d34fbf8",
   "metadata": {},
   "outputs": [
    {
     "name": "stdout",
     "output_type": "stream",
     "text": [
      "Specificity = 0.6896551724137931 \n"
     ]
    }
   ],
   "source": [
    "#Calculate the Specificity\n",
    "Specificity = TN / ( TN + FP )\n",
    "#Print the output of Specificity\n",
    "print(\"Specificity = {} \".format(Specificity))"
   ]
  },
  {
   "cell_type": "code",
   "execution_count": 136,
   "id": "0f32a1cb",
   "metadata": {},
   "outputs": [
    {
     "data": {
      "image/png": "[encoded data removed]",
      "text/plain": [
       "<Figure size 1080x576 with 2 Axes>"
      ]
     },
     "metadata": {
      "needs_background": "light"
     },
     "output_type": "display_data"
    }
   ],
   "source": [
    "\n",
    "# Display the Confusion Matrix\n",
    "disp = metrics.ConfusionMatrixDisplay(Confusion_matrix).plot(cmap=plt.cm.RdPu)"
   ]
  },
  {
   "cell_type": "markdown",
   "id": "e1c10b89",
   "metadata": {},
   "source": [
    "#####  Logistic Regression \n"
   ]
  },
  {
   "cell_type": "code",
   "execution_count": 137,
   "id": "1ee0e860",
   "metadata": {},
   "outputs": [],
   "source": [
    "logistic_model = LogisticRegression(random_state=0, penalty = 'l2')\n",
    "logistic_model.fit(X_train,Y_train)\n",
    "pred=logistic_model.predict(X_test)\n"
   ]
  },
  {
   "cell_type": "code",
   "execution_count": 138,
   "id": "4b72700d",
   "metadata": {},
   "outputs": [],
   "source": [
    "def confusion_matrix_plot(model):\n",
    "    ypred = model.predict(X_test)\n",
    "    cm = confusion_matrix(Y_test, ypred)\n",
    "    cm = np.rot90(cm , 2)\n",
    "    conf_matrix = pd.DataFrame(data = cm,columns = ['Predicted:1','Predicted:0'], index = ['Actual:1','Actual:0'])\n",
    "    sns.heatmap(conf_matrix, annot = True, fmt = 'd', cbar = False, \n",
    "                linewidths = 0.1, annot_kws = {'size':20})\n",
    "    plt.xticks(fontsize = 20)\n",
    "    plt.yticks(fontsize = 20)\n",
    "    plt.show()"
   ]
  },
  {
   "cell_type": "code",
   "execution_count": 139,
   "id": "0dac0cc6",
   "metadata": {},
   "outputs": [
    {
     "data": {
      "image/png": "[encoded data removed]",
      "text/plain": [
       "<Figure size 1080x576 with 1 Axes>"
      ]
     },
     "metadata": {
      "needs_background": "light"
     },
     "output_type": "display_data"
    }
   ],
   "source": [
    "confusion_matrix_plot(logistic_model)"
   ]
  },
  {
   "cell_type": "markdown",
   "id": "8d6c7b55",
   "metadata": {},
   "source": [
    "Both decision tree classifiers and logistic regression models can be effective for different types of problems and data. Generally speaking, decision trees can be useful for problems with a large number of features or complex interactions between features, while logistic regression can be effective for problems with a smaller number of features and linear relationships between the features and target variable.\n",
    "\n",
    "in the previous graphs : \n",
    "The plot shows the predicted and actual labels for each class (1 and 0) on the x and y-axis, respectively, with the heatmap color representing the number of instances that fall into each category of the confusion matrix. The plot provides a visual representation of the performance of the logistic regression model, by showing the number of true positives, false positives, true negatives, and false negatives for each class.\n",
    "\n",
    "we compare the performance of the decision tree classifier and logistic regression models by looking at the various evaluation metrics such as accuracy, error rate, ROC AUC score, precision, recall, and F1 score. You can also visually compare the confusion matrices generated by the two models using the heatmap plots.\n",
    "\n",
    "we can compare the performance of the logistic regression model and the decision tree classifier on the heart attack dataset.\n",
    "\n",
    "Here are the evaluation metrics for both models:\n",
    "\n",
    "Logistic Regression Metrics:\n",
    "\n",
    "Accuracy: 0.8688524590163934\n",
    "Precision: 0.8529411764705882\n",
    "Recall: 0.9019607843137255\n",
    "F1 Score: 0.8767123287671233\n",
    "ROC AUC Score: 0.8651960784313726\n",
    "Decision Tree Metrics:\n",
    "\n",
    "Accuracy: 0.7540983606557377\n",
    "Precision: 0.7272727272727273\n",
    "Recall: 0.7450980392156863\n",
    "F1 Score: 0.7368421052631579\n",
    "ROC AUC Score: 0.7387254901960785\n",
    "From these metrics, we can see that the logistic regression model performs better than the decision tree classifier in terms of accuracy, precision, recall, F1 score, and ROC AUC score. Therefore, based on these evaluation metrics, the logistic regression model is likely the better model for this specific problem and dataset.\n",
    "\n",
    "However, it's important to note that other factors such as model interpretability and complexity may also be important considerations when choosing between models."
   ]
  },
  {
   "cell_type": "code",
   "execution_count": null,
   "id": "3ad4c670",
   "metadata": {},
   "outputs": [],
   "source": []
  }
 ],
 "metadata": {
  "colab": {
   "name": "Project (2).ipynb",
   "provenance": []
  },
  "kernelspec": {
   "display_name": "Python 3 (ipykernel)",
   "language": "python",
   "name": "python3"
  },
  "language_info": {
   "codemirror_mode": {
    "name": "ipython",
    "version": 3
   },
   "file_extension": ".py",
   "mimetype": "text/x-python",
   "name": "python",
   "nbconvert_exporter": "python",
   "pygments_lexer": "ipython3",
   "version": "3.11.3"
  },
  "vscode": {
   "interpreter": {
    "hash": "d9cd165c274f6ea3b612e693afe68b6be808b69b013edeecf9a4bd9cbdc224f6"
   }
  }
 },
 "nbformat": 4,
 "nbformat_minor": 5
}
